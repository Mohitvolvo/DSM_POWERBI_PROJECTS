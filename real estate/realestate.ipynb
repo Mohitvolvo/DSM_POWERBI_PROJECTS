{
 "cells": [
  {
   "cell_type": "code",
   "execution_count": 1,
   "metadata": {},
   "outputs": [
    {
     "name": "stdout",
     "output_type": "stream",
     "text": [
      "Data exported to 'real_estate_fake_data_with_additional_columns.csv'\n"
     ]
    }
   ],
   "source": [
    "import pandas as pd\n",
    "from faker import Faker\n",
    "import random\n",
    "import numpy as np\n",
    "import calendar\n",
    "from datetime import datetime, timedelta\n",
    "\n",
    "# Initialize Faker\n",
    "fake = Faker()\n",
    "\n",
    "# Generate fake data\n",
    "data = []\n",
    "start_date = datetime.now() - timedelta(days=3*365)\n",
    "end_date = datetime.now()\n",
    "\n",
    "for _ in range(2000):\n",
    "    property_id = fake.uuid4()\n",
    "    property_type = fake.random_element(elements=('Apartment', 'House', 'Condo', 'Townhouse', 'Duplex'))\n",
    "    rent = round(random.uniform(1000, 5000), 2)\n",
    "    occupancy_rate = random.uniform(0.7, 1.0)\n",
    "    monthly_revenue = rent * occupancy_rate\n",
    "    rental_length = random.randint(1, 12)\n",
    "    maintenance_costs = round(random.uniform(50, 500), 2)\n",
    "    maintenance_issues_logged = random.randint(0, 10)\n",
    "    customer_satisfaction = random.randint(1, 5)\n",
    "    month = random.randint(1, 12)\n",
    "    season = calendar.month_name[month]\n",
    "    date = fake.date_between(start_date=start_date, end_date=end_date)\n",
    "    maintenance_issue_type = fake.random_element(elements=('Plumbing', 'Electrical', 'HVAC', 'Structural', 'Other'))\n",
    "    occupancy_indicator = 'Occupied' if occupancy_rate > 0.8 else 'Vacant'\n",
    "\n",
    "    data.append([property_id, property_type, rent, occupancy_rate, monthly_revenue,\n",
    "                 rental_length, maintenance_costs, maintenance_issues_logged,\n",
    "                 customer_satisfaction, month, season, date, maintenance_issue_type, occupancy_indicator])\n",
    "\n",
    "# Create DataFrame\n",
    "columns = ['Property ID', 'Property Type', 'Rent', 'Occupancy Rate', 'Monthly Revenue',\n",
    "           'Rental Length (months)', 'Maintenance Costs', 'Maintenance Issues Logged',\n",
    "           'Customer Satisfaction', 'Month', 'Season', 'Date', 'Maintenance Issue Type', 'Occupancy Indicator']\n",
    "df = pd.DataFrame(data, columns=columns)\n",
    "\n",
    "# Export data to CSV\n",
    "df.to_csv('real_estate_data_v1.csv', index=False)\n",
    "\n",
    "# Output\n",
    "print(\"Data exported to 'real_estate_fake_data_with_additional_columns.csv'\")"
   ]
  }
 ],
 "metadata": {
  "kernelspec": {
   "display_name": "Python 3",
   "language": "python",
   "name": "python3"
  },
  "language_info": {
   "codemirror_mode": {
    "name": "ipython",
    "version": 3
   },
   "file_extension": ".py",
   "mimetype": "text/x-python",
   "name": "python",
   "nbconvert_exporter": "python",
   "pygments_lexer": "ipython3",
   "version": "3.11.4"
  }
 },
 "nbformat": 4,
 "nbformat_minor": 2
}

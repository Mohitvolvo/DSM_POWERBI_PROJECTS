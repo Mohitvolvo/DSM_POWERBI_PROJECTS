{
 "cells": [
  {
   "cell_type": "code",
   "execution_count": 3,
   "metadata": {},
   "outputs": [
    {
     "name": "stdout",
     "output_type": "stream",
     "text": [
      "Data exported to 'healthcare_fake_data.csv'\n"
     ]
    }
   ],
   "source": [
    "import pandas as pd\n",
    "from faker import Faker\n",
    "import random\n",
    "\n",
    "# Initialize Faker\n",
    "fake = Faker()\n",
    "\n",
    "# Generate fake data\n",
    "data = []\n",
    "for _ in range(2000):\n",
    "    patient_id = fake.uuid4()\n",
    "    patient_name = fake.name()\n",
    "    patient_age = random.randint(18, 90)\n",
    "    patient_gender = random.choice(['Male', 'Female'])\n",
    "    patient_address = fake.address()\n",
    "    admission_date = fake.date_this_year()\n",
    "    discharge_date = fake.date_between(start_date=admission_date, end_date='today')\n",
    "    treatment_offered = fake.random_element(elements=('Medication', 'Surgery', 'Therapy', 'Consultation'))\n",
    "    wait_time_minutes = random.randint(10, 240)\n",
    "    patient_satisfaction = random.randint(1, 5)\n",
    "    readmission = random.choice([True, False])\n",
    "    telehealth_utilization = random.choice(['Low', 'Medium', 'High'])\n",
    "\n",
    "    data.append([patient_id, patient_name, patient_age, patient_gender, patient_address,\n",
    "                 admission_date, discharge_date, treatment_offered, wait_time_minutes,\n",
    "                 patient_satisfaction, readmission, telehealth_utilization])\n",
    "\n",
    "# Create DataFrame\n",
    "columns = ['Patient ID', 'Patient Name', 'Patient Age', 'Patient Gender', 'Patient Address',\n",
    "           'Admission Date', 'Discharge Date', 'Treatment Offered', 'Wait Time (minutes)',\n",
    "           'Patient Satisfaction', 'Readmission', 'Telehealth Utilization']\n",
    "df = pd.DataFrame(data, columns=columns)\n",
    "\n",
    "# Export data to CSV\n",
    "df.to_csv('healthcare_fake_data.csv', index=False)\n",
    "\n",
    "# Output\n",
    "print(\"Data exported to 'healthcare_fake_data.csv'\")\n"
   ]
  }
 ],
 "metadata": {
  "kernelspec": {
   "display_name": "Python 3",
   "language": "python",
   "name": "python3"
  },
  "language_info": {
   "codemirror_mode": {
    "name": "ipython",
    "version": 3
   },
   "file_extension": ".py",
   "mimetype": "text/x-python",
   "name": "python",
   "nbconvert_exporter": "python",
   "pygments_lexer": "ipython3",
   "version": "3.11.4"
  }
 },
 "nbformat": 4,
 "nbformat_minor": 2
}

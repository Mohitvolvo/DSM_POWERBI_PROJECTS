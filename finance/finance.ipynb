{
 "cells": [
  {
   "cell_type": "code",
   "execution_count": 1,
   "metadata": {},
   "outputs": [
    {
     "name": "stdout",
     "output_type": "stream",
     "text": [
      "Data exported to 'finance_fake_data.csv'\n"
     ]
    }
   ],
   "source": [
    "import pandas as pd\n",
    "from faker import Faker\n",
    "import random\n",
    "import numpy as np\n",
    "\n",
    "# Initialize Faker\n",
    "fake = Faker()\n",
    "\n",
    "# Generate fake data\n",
    "data = []\n",
    "for _ in range(2000):\n",
    "    customer_id = fake.uuid4()\n",
    "    customer_name = fake.name()\n",
    "    age = random.randint(18, 80)\n",
    "    income = round(random.uniform(20000, 200000), 2)\n",
    "    investment_type = fake.random_element(elements=('Stocks', 'Bonds', 'Mutual Funds', 'ETFs', 'Real Estate'))\n",
    "    inflow = round(random.uniform(1000, 5000), 2)\n",
    "    outflow = round(random.uniform(500, 3000), 2)\n",
    "    feedback = random.choice(['Excellent', 'Good', 'Average', 'Poor'])\n",
    "    churn = random.choice([True, False])\n",
    "    acquisition_cost = round(random.uniform(50, 500), 2)\n",
    "    \n",
    "    data.append([customer_id, customer_name, age, income, investment_type, inflow, outflow, feedback, churn, acquisition_cost])\n",
    "\n",
    "# Create DataFrame\n",
    "columns = ['Customer ID', 'Customer Name', 'Age', 'Income', 'Investment Type', 'Inflow', 'Outflow', 'Feedback', 'Churn', 'Acquisition Cost']\n",
    "df = pd.DataFrame(data, columns=columns)\n",
    "\n",
    "# Calculate additional metrics\n",
    "df['Net Profit Margin'] = (df['Inflow'] - df['Outflow']) / df['Inflow']\n",
    "df['Assets Under Management'] = df['Income'] - df['Outflow']\n",
    "df['Customer Churn'] = df['Churn'].astype(int)  # Convert boolean to integer\n",
    "df['Cost Per Acquisition'] = df['Acquisition Cost'] / np.maximum(df['Churn'], 1)\n",
    "\n",
    "# Export data to CSV\n",
    "df.to_csv('finance_fake_data.csv', index=False)\n",
    "\n",
    "# Output\n",
    "print(\"Data exported to 'finance_fake_data.csv'\")\n"
   ]
  },
  {
   "cell_type": "code",
   "execution_count": 2,
   "metadata": {},
   "outputs": [
    {
     "name": "stdout",
     "output_type": "stream",
     "text": [
      "Data exported to 'finance_fake_data_with_date.csv'\n"
     ]
    }
   ],
   "source": [
    "import pandas as pd\n",
    "from faker import Faker\n",
    "import random\n",
    "import numpy as np\n",
    "from datetime import datetime, timedelta\n",
    "\n",
    "# Initialize Faker\n",
    "fake = Faker()\n",
    "\n",
    "# Generate fake data\n",
    "data = []\n",
    "start_date = datetime.now() - timedelta(days=3*365)\n",
    "end_date = datetime.now()\n",
    "\n",
    "for _ in range(2000):\n",
    "    customer_id = fake.uuid4()\n",
    "    customer_name = fake.name()\n",
    "    age = random.randint(18, 80)\n",
    "    income = round(random.uniform(20000, 200000), 2)\n",
    "    investment_type = fake.random_element(elements=('Stocks', 'Bonds', 'Mutual Funds', 'ETFs', 'Real Estate'))\n",
    "    inflow = round(random.uniform(1000, 5000), 2)\n",
    "    outflow = round(random.uniform(500, 3000), 2)\n",
    "    feedback = random.choice(['Excellent', 'Good', 'Average', 'Poor'])\n",
    "    churn = random.choice([True, False])\n",
    "    acquisition_cost = round(random.uniform(50, 500), 2)\n",
    "    date = fake.date_between(start_date=start_date, end_date=end_date)\n",
    "\n",
    "    current_year = datetime.now().year\n",
    "    customer_type = 'New' if date.year == current_year else 'Old'\n",
    "    \n",
    "    data.append([customer_id, customer_name, age, income, investment_type, inflow, outflow, feedback, churn, acquisition_cost, date,customer_type])\n",
    "\n",
    "# Create DataFrame\n",
    "columns = ['Customer ID', 'Customer Name', 'Age', 'Income', 'Investment Type', 'Inflow', 'Outflow', 'Feedback', 'Churn', 'Acquisition Cost', 'Date','customer type']\n",
    "df = pd.DataFrame(data, columns=columns)\n",
    "\n",
    "# Calculate additional metrics\n",
    "df['Net Profit Margin'] = (df['Inflow'] - df['Outflow']) / df['Inflow']\n",
    "df['Assets Under Management'] = df['Income'] - df['Outflow']\n",
    "df['Customer Churn'] = df['Churn'].astype(int)  # Convert boolean to integer\n",
    "df['Cost Per Acquisition'] = df['Acquisition Cost'] / np.maximum(df['Churn'], 1)\n",
    "\n",
    "# Export data to CSV\n",
    "df.to_csv('finance_data_v2.csv', index=False)\n",
    "\n",
    "# Output\n",
    "print(\"Data exported to 'finance_fake_data_with_date.csv'\")"
   ]
  }
 ],
 "metadata": {
  "kernelspec": {
   "display_name": "Python 3",
   "language": "python",
   "name": "python3"
  },
  "language_info": {
   "codemirror_mode": {
    "name": "ipython",
    "version": 3
   },
   "file_extension": ".py",
   "mimetype": "text/x-python",
   "name": "python",
   "nbconvert_exporter": "python",
   "pygments_lexer": "ipython3",
   "version": "3.11.4"
  }
 },
 "nbformat": 4,
 "nbformat_minor": 2
}

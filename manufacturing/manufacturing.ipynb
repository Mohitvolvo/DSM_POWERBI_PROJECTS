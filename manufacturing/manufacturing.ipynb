{
 "cells": [
  {
   "cell_type": "code",
   "execution_count": 3,
   "metadata": {},
   "outputs": [
    {
     "name": "stdout",
     "output_type": "stream",
     "text": [
      "Data exported to 'manufacturing_fake_data.csv'\n"
     ]
    }
   ],
   "source": [
    "import pandas as pd\n",
    "from faker import Faker\n",
    "import random\n",
    "import numpy as np\n",
    "from datetime import datetime, timedelta\n",
    "\n",
    "# Initialize Faker\n",
    "fake = Faker()\n",
    "\n",
    "# List of meaningful product names\n",
    "product_names = [\n",
    "    'Widget A', 'Gadget B', 'Device C', 'Tool D', 'Component E', \n",
    "    'Instrument F', 'Machine G', 'Apparatus H', 'Contraption I', 'Gizmo J'\n",
    "]\n",
    "\n",
    "# Helper function to generate random dates within the last 3 years\n",
    "def random_date(start, end):\n",
    "    return start + timedelta(days=random.randint(0, (end - start).days))\n",
    "\n",
    "# Generate fake data\n",
    "data = []\n",
    "start_date = datetime.now() - timedelta(days=3*365)\n",
    "end_date = datetime.now()\n",
    "\n",
    "for _ in range(2000):\n",
    "    product_id = fake.uuid4()\n",
    "    product_name = random.choice(product_names)  # Select from meaningful product names\n",
    "    production_date = random_date(start_date, end_date).strftime('%Y-%m-%d')  # Format date\n",
    "    production_volume = random.randint(100, 1000)\n",
    "    defective_units = random.randint(0, production_volume // 10)\n",
    "    production_efficiency = round((production_volume - defective_units) / production_volume, 2)\n",
    "    inventory_turnover = round(random.uniform(2, 8), 2)\n",
    "    time_to_market = random.randint(10, 180)\n",
    "    supplier_reliability = round(random.uniform(0.8, 1.0), 2)\n",
    "    inventory_level = random.randint(50, 500)\n",
    "    \n",
    "    data.append([\n",
    "        product_id, product_name, production_date, production_volume, \n",
    "        defective_units, production_efficiency, inventory_turnover, \n",
    "        time_to_market, supplier_reliability, inventory_level\n",
    "    ])\n",
    "\n",
    "# Create DataFrame\n",
    "columns = [\n",
    "    'Product ID', 'Product Name', 'Production Date', 'Production Volume', \n",
    "    'Defective Units', 'Production Efficiency', 'Inventory Turnover', \n",
    "    'Time to Market', 'Supplier Reliability', 'Inventory Level'\n",
    "]\n",
    "df = pd.DataFrame(data, columns=columns)\n",
    "\n",
    "# Export data to CSV\n",
    "df.to_csv('manufacturing_fake_data.csv', index=False)\n",
    "\n",
    "# Output\n",
    "print(\"Data exported to 'manufacturing_fake_data.csv'\")"
   ]
  }
 ],
 "metadata": {
  "kernelspec": {
   "display_name": "Python 3",
   "language": "python",
   "name": "python3"
  },
  "language_info": {
   "codemirror_mode": {
    "name": "ipython",
    "version": 3
   },
   "file_extension": ".py",
   "mimetype": "text/x-python",
   "name": "python",
   "nbconvert_exporter": "python",
   "pygments_lexer": "ipython3",
   "version": "3.11.4"
  }
 },
 "nbformat": 4,
 "nbformat_minor": 2
}

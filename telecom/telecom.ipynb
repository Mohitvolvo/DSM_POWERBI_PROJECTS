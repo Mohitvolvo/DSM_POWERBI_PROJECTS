{
 "cells": [
  {
   "cell_type": "code",
   "execution_count": 3,
   "metadata": {},
   "outputs": [
    {
     "name": "stdout",
     "output_type": "stream",
     "text": [
      "Data exported to telecom_data.csv\n"
     ]
    }
   ],
   "source": [
    "import pandas as pd\n",
    "import numpy as np\n",
    "from faker import Faker\n",
    "from datetime import datetime, timedelta\n",
    "import random\n",
    "\n",
    "# Initialize Faker\n",
    "fake = Faker()\n",
    "\n",
    "# Parameters\n",
    "num_records = 2000\n",
    "start_date = datetime.now() - timedelta(days=730)\n",
    "end_date = datetime.now()\n",
    "\n",
    "# Helper functions\n",
    "def random_date(start, end):\n",
    "    return start + timedelta(days=random.randint(0, (end - start).days))\n",
    "\n",
    "# Generate fake data\n",
    "data = []\n",
    "subscription_plans = ['Basic', 'Standard', 'Premium']\n",
    "plan_types = ['Prepaid', 'Postpaid']\n",
    "\n",
    "for _ in range(num_records):\n",
    "    date_of_joining = random_date(start_date, end_date)\n",
    "    date_of_leaving = random_date(date_of_joining, end_date) if random.choice([True, False]) else None\n",
    "    complaint_indicator = random.choice([0, 1])\n",
    "    churn_indicator = 1 if date_of_leaving else 0\n",
    "    revenue = round(random.uniform(10, 100), 2)\n",
    "    latency = round(random.uniform(10, 100), 2)\n",
    "    customer_id = fake.unique.random_int(min=1000, max=9999)\n",
    "    subscription_plan = random.choice(subscription_plans)\n",
    "    plan_type = random.choice(plan_types)\n",
    "    usage_minutes = round(random.uniform(50, 5000), 2)\n",
    "    data_usage = round(random.uniform(1, 100), 2) # GB\n",
    "    \n",
    "    data.append([\n",
    "        customer_id,\n",
    "        date_of_joining,\n",
    "        date_of_leaving,\n",
    "        complaint_indicator,\n",
    "        churn_indicator,\n",
    "        revenue,\n",
    "        latency,\n",
    "        subscription_plan,\n",
    "        plan_type,\n",
    "        usage_minutes,\n",
    "        data_usage\n",
    "    ])\n",
    "\n",
    "# Create DataFrame\n",
    "columns = [\n",
    "    'CustomerID', 'DateOfJoining', 'DateOfLeaving', \n",
    "    'ComplaintIndicator', 'ChurnIndicator', \n",
    "    'Revenue', 'Latency',\n",
    "    'SubscriptionPlan', 'PlanType', 'UsageMinutes', 'DataUsage'\n",
    "]\n",
    "df = pd.DataFrame(data, columns=columns)\n",
    "\n",
    "# Format dates\n",
    "df['DateOfJoining'] = df['DateOfJoining'].dt.strftime('%Y-%m-%d')\n",
    "df['DateOfLeaving'] = df['DateOfLeaving'].dt.strftime('%Y-%m-%d')  # Convert to string format\n",
    "df['DateOfLeaving'] = df['DateOfLeaving'].fillna('')  # Replace NaT with empty string\n",
    "\n",
    "\n",
    "\n",
    "# Export to CSV\n",
    "df.to_csv('telecom_data.csv', index=False)\n",
    "print(\"Data exported to telecom_data.csv\")\n",
    "\n",
    "\n"
   ]
  }
 ],
 "metadata": {
  "kernelspec": {
   "display_name": "Python 3",
   "language": "python",
   "name": "python3"
  },
  "language_info": {
   "codemirror_mode": {
    "name": "ipython",
    "version": 3
   },
   "file_extension": ".py",
   "mimetype": "text/x-python",
   "name": "python",
   "nbconvert_exporter": "python",
   "pygments_lexer": "ipython3",
   "version": "3.11.4"
  }
 },
 "nbformat": 4,
 "nbformat_minor": 2
}
